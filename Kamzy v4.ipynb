{
 "cells": [
  {
   "cell_type": "markdown",
   "metadata": {},
   "source": [
    "# Cybergate BOT"
   ]
  },
  {
   "cell_type": "code",
   "execution_count": 91,
   "metadata": {},
   "outputs": [],
   "source": [
    "# documentation: https://www.mql5.com/en/docs/integration/python_metatrader5\n",
    "\n",
    "import MetaTrader5 as mt\n",
    "import pandas as pd \n",
    "import plotly.express as px  \n",
    "from datetime import datetime"
   ]
  },
  {
   "cell_type": "code",
   "execution_count": 92,
   "metadata": {},
   "outputs": [
    {
     "name": "stdout",
     "output_type": "stream",
     "text": [
      "MetaTrader5 package author:  MetaQuotes Ltd.\n",
      "MetaTrader5 package version:  5.0.37\n"
     ]
    },
    {
     "data": {
      "text/plain": [
       "True"
      ]
     },
     "execution_count": 92,
     "metadata": {},
     "output_type": "execute_result"
    }
   ],
   "source": [
    "# display data on the MetaTrader 5 package\n",
    "print(\"MetaTrader5 package author: \",mt.__author__)\n",
    "print(\"MetaTrader5 package version: \",mt.__version__)\n",
    "\n",
    "# start the platform with initialize()\n",
    "mt.initialize()"
   ]
  },
  {
   "cell_type": "code",
   "execution_count": 93,
   "metadata": {},
   "outputs": [
    {
     "name": "stdout",
     "output_type": "stream",
     "text": [
      "80876458 has been logged in\n"
     ]
    }
   ],
   "source": [
    "# login to Trade Account with login()\n",
    "# make sure that trade server is enabled in MT5 client terminal\n",
    "\n",
    "login = 80876458\n",
    "password = 'Passw0rd'\n",
    "server = 'Exness-MT5Trial9'\n",
    "\n",
    "# mt.login(login, password, server)\n",
    "# print(f\"{login} has been logged in\")\n",
    "# login = 80867056\n",
    "# password = 'abchej3647CHI'\n",
    "# server = 'Exness-MT5Trial9'\n",
    "\n",
    "mt.login(login, password, server)\n",
    "print(f\"{login} has been logged in\")"
   ]
  },
  {
   "cell_type": "code",
   "execution_count": 94,
   "metadata": {},
   "outputs": [
    {
     "name": "stdout",
     "output_type": "stream",
     "text": [
      "AccountInfo(login=80876458, trade_mode=0, leverage=2000, limit_orders=1024, margin_so_mode=0, trade_allowed=True, trade_expert=True, margin_mode=2, currency_digits=2, fifo_close=False, balance=237.5, credit=0.0, profit=-60.0, equity=177.5, margin=211.61, margin_free=-34.11, margin_level=83.88072397334719, margin_so_call=60.0, margin_so_so=0.0, margin_initial=0.0, margin_maintenance=0.0, assets=0.0, liabilities=0.0, commission_blocked=0.0, name='Standard', server='Exness-MT5Trial9', currency='USD', company='Exness Technologies Ltd')\n",
      "\n",
      "login:  80876458\n",
      "balance:  237.5\n",
      "equity:  177.5\n"
     ]
    }
   ],
   "source": [
    "# get account info\n",
    "account_info = mt.account_info()\n",
    "print(account_info)\n",
    "\n",
    "# getting specific account data\n",
    "login_number = account_info.login\n",
    "balance = account_info.balance\n",
    "equity = account_info.equity\n",
    "\n",
    "print()  ## Returns empty space LIKE \\r\n",
    "print('login: ', login_number)\n",
    "print('balance: ', balance)\n",
    "print('equity: ', equity)"
   ]
  },
  {
   "cell_type": "code",
   "execution_count": 95,
   "metadata": {},
   "outputs": [],
   "source": [
    "# get number of symbols with symbols_total() Currency Pairs\n",
    "num_symbols = mt.symbols_total()\n",
    " \n",
    "# num_symbols"
   ]
  },
  {
   "cell_type": "code",
   "execution_count": 96,
   "metadata": {},
   "outputs": [],
   "source": [
    "# [\"GBPJPYm\", \"EURUSDm\"]\n",
    "CURRENCY_PAIRS = \"EURUSDm\"\n",
    "INITIAL_PRICE = 0"
   ]
  },
  {
   "cell_type": "code",
   "execution_count": 97,
   "metadata": {
    "scrolled": true
   },
   "outputs": [],
   "source": [
    "# get all symbols and their specifications\n",
    "symbols = mt.symbols_get(CURRENCY_PAIRS)\n",
    "sym = symbols[0]\n",
    "\n",
    "# sym"
   ]
  },
  {
   "cell_type": "code",
   "execution_count": 98,
   "metadata": {
    "scrolled": true
   },
   "outputs": [],
   "source": [
    "# get symbol specifications\n",
    "symbol_info = mt.symbol_info(CURRENCY_PAIRS)._asdict()\n",
    "# symbol_info\n",
    "\n",
    "# print(type(symbol_info)) ## Returns A Dict"
   ]
  },
  {
   "cell_type": "code",
   "execution_count": 99,
   "metadata": {},
   "outputs": [],
   "source": [
    "# get current symbol price\n",
    "symbol_price = mt.symbol_info_tick(CURRENCY_PAIRS)._asdict()\n",
    "BID_PRICE = symbol_price['bid']\n",
    "ASK_PRICE = symbol_price['ask']\n",
    "\n",
    "# BID_PRICE, ASK_PRICE"
   ]
  },
  {
   "cell_type": "code",
   "execution_count": 100,
   "metadata": {},
   "outputs": [],
   "source": [
    "import plotly.graph_objects as go\n",
    "# ohlc_data\n",
    "ohlc_data = pd.DataFrame(mt.copy_rates_range(CURRENCY_PAIRS, \n",
    "                                             mt.TIMEFRAME_H1, \n",
    "                                             datetime(2022, 6, 21), \n",
    "                                             datetime.now()))\n",
    "\n",
    "# fig = px.line(ohlc_data, x=ohlc_data['time'], y=ohlc_data['close'])\n",
    "# test_fig = px.bar(ohlc_data, x=ohlc_data['time'], y=ohlc_data['close'])\n",
    "### Candlesticks(ohlc_data, x=ohlc_data['time'], y=ohlc_data['close'])\n",
    "fig = go.Figure(data=ohlc_data, layout=ohlc_data['open'], frames=ohlc_data['close'], skip_invalid=True)\n",
    "# fig.show()\n",
    "\n",
    "# ohlc_data['low']\n",
    "# ohlc_data['high'][1]"
   ]
  },
  {
   "cell_type": "code",
   "execution_count": 101,
   "metadata": {},
   "outputs": [],
   "source": [
    "# requesting tick data\n",
    "tick_data = pd.DataFrame(mt.copy_ticks_range(CURRENCY_PAIRS,\n",
    "                                             datetime(2022, 6, 21), \n",
    "                                             datetime.now(), \n",
    "                                             mt.COPY_TICKS_ALL))\n",
    "\n",
    "# fig = px.line(tick_data, x=tick_data['time'], y=[tick_data['bid'], tick_data['ask']])\n",
    "# fig.show()\n",
    "aa = px.scatter(ohlc_data, x=ohlc_data['time'], y=ohlc_data['close'])\n",
    "# aa.show()\n",
    "# tick_data"
   ]
  },
  {
   "cell_type": "code",
   "execution_count": 102,
   "metadata": {},
   "outputs": [],
   "source": [
    "# total number of orders\n",
    "num_orders = mt.orders_total()\n",
    "# num_orders"
   ]
  },
  {
   "cell_type": "code",
   "execution_count": 103,
   "metadata": {},
   "outputs": [],
   "source": [
    "# list of orders\n",
    "orders = mt.orders_get()\n",
    "# orders"
   ]
  },
  {
   "cell_type": "code",
   "execution_count": 104,
   "metadata": {},
   "outputs": [
    {
     "data": {
      "text/plain": [
       "2"
      ]
     },
     "execution_count": 104,
     "metadata": {},
     "output_type": "execute_result"
    }
   ],
   "source": [
    "# total number of positions\n",
    "num_positions = mt.positions_total()\n",
    "num_positions"
   ]
  },
  {
   "cell_type": "code",
   "execution_count": 105,
   "metadata": {},
   "outputs": [
    {
     "name": "stdout",
     "output_type": "stream",
     "text": [
      "Ticket Number 1: 69956463 1.05806 1.05818\n",
      "Ticket Number 2: 69956487 1.05806 1.05818\n"
     ]
    }
   ],
   "source": [
    "# list of positions\n",
    "positions = mt.positions_get()\n",
    "\n",
    "# positions[0]._asdict() #### Return it as a Dictionary\n",
    "# ticket = positions[0]._asdict()['ticket'] ####### Return Single Ticket\n",
    "# print(ticket)\n",
    "\n",
    "# NOW Return All Tickets\n",
    "tick_no = 1\n",
    "for pos in positions:\n",
    "    print(f\"Ticket Number {tick_no}:\", pos._asdict()['ticket'], pos._asdict()['price_open'], pos._asdict()['price_current'])\n",
    "    ticketNumber = pos._asdict()['ticket']\n",
    "    tick_no = tick_no + 1\n",
    "# positions"
   ]
  },
  {
   "cell_type": "code",
   "execution_count": 106,
   "metadata": {},
   "outputs": [],
   "source": [
    "# number of history orders\n",
    "num_order_history = mt.history_orders_total(datetime(2021, 1, 1), datetime(2022, 6, 22))\n",
    "# num_order_history"
   ]
  },
  {
   "cell_type": "code",
   "execution_count": 107,
   "metadata": {},
   "outputs": [],
   "source": [
    "# list of history orders\n",
    "order_history = mt.history_orders_get(datetime(2022, 6, 21), datetime(2022, 6, 21))\n",
    "# order_history"
   ]
  },
  {
   "cell_type": "code",
   "execution_count": 108,
   "metadata": {},
   "outputs": [
    {
     "name": "stdout",
     "output_type": "stream",
     "text": [
      "Total deals= 51\n"
     ]
    }
   ],
   "source": [
    "# get the number of deals in history\n",
    "from_date=datetime(2022,5,21)\n",
    "to_date=datetime.now()\n",
    "deals=mt.history_deals_total(from_date, to_date)\n",
    "if deals > 0:\n",
    "    print(\"Total deals=\", deals)\n",
    "else:\n",
    "    print(\"Deals not found in history\")\n",
    "# number of history deals\n",
    "# num_deal_history = mt.history_deals_total(datetime(2022, 6, 21),  datetime(2022, 5, 21))\n",
    "# num_deal_history"
   ]
  },
  {
   "cell_type": "code",
   "execution_count": 109,
   "metadata": {},
   "outputs": [],
   "source": [
    "# number of history deals\n",
    "\n",
    "deal_history = mt.history_deals_get(datetime(2022, 6, 21), datetime(2022, 5, 21))\n",
    "# deal_history"
   ]
  },
  {
   "cell_type": "markdown",
   "metadata": {},
   "source": [
    "# Support and Resistence"
   ]
  },
  {
   "cell_type": "markdown",
   "metadata": {},
   "source": [
    "Pivot Point Calculation\n",
    "The calculation for a pivot point is shown below:\n",
    "\n",
    "Pivot point (PP) = (High + Low + Close) / 3\n",
    "\n",
    "Support and resistance levels are then calculated off the pivot point like so:\n",
    "\n",
    "First level support and resistance:\n",
    "\n",
    "First resistance (R1) = (2 x PP) – Low\n",
    "\n",
    "First support (S1) = (2 x PP) – High\n",
    "\n",
    "Second level of support and resistance:\n",
    "\n",
    "Second resistance (R2) = PP + (High – Low)\n",
    "\n",
    "Second support (S2) = PP – (High – Low)\n",
    "\n",
    "Third level of support and resistance:\n",
    "\n",
    "Third resistance (R3) = High + 2(PP – Low)\n",
    "\n",
    "Third support (S3) = Low – 2(High – PP)"
   ]
  },
  {
   "cell_type": "code",
   "execution_count": 110,
   "metadata": {},
   "outputs": [],
   "source": [
    "#### GET HIGH, LOW, CLOSE, OPEN\n",
    "# ohlc_data\n",
    "ohlc_data = pd.DataFrame(mt.copy_rates_range(CURRENCY_PAIRS, \n",
    "                                             mt.TIMEFRAME_H1, \n",
    "                                             datetime(2022, 6, 23), \n",
    "                                             datetime.now()))\n",
    "# df_plot_candles = px.line(ohlc_data, x=ohlc_data['high'], y=ohlc_data['low'])\n",
    "# bb = df_plot_candles.show()\n",
    "LOW = ohlc_data['low']\n",
    "HIGH = ohlc_data['high']\n",
    "OPEN = ohlc_data['open']\n",
    "CLOSE = ohlc_data['close']\n",
    "\n",
    "# ohlc_data"
   ]
  },
  {
   "cell_type": "code",
   "execution_count": 111,
   "metadata": {},
   "outputs": [],
   "source": [
    "### GETTING THE HIGHEST AND LOWEST AND CLOSE\n",
    "HH = list(HIGH)\n",
    "HH.sort()\n",
    "HH = HH[-1]\n",
    "\n",
    "LL = list(LOW)\n",
    "LL.sort()\n",
    "LL = LL[-1]\n",
    "# print(LL)\n",
    "\n",
    "CC = list(CLOSE)\n",
    "CC.sort()\n",
    "CC = CC[-1]\n",
    "################# PIVOT POINT   #################\n",
    "PP = (HH + LL + CC) / 3\n",
    "\n",
    "###  PP ## Pivot Point\n",
    "#   |||||     FIRST LEVEL SUPPORT AND RESISTANCE      |||||   #\n",
    "R1 = (2 * PP) - LL  # First_Resistance\n",
    "\n",
    "S1 = (2 * PP) - HH  # First_Support\n",
    "\n",
    "#   |||||     SECOND LEVEL SUPPORT AND RESISTANCE      |||||   #\n",
    "R2 = PP + (HH - LL)  # Second_Resistance\n",
    "\n",
    "S2 = PP - (HH - LL)  # Second_Support\n",
    "\n",
    "#   |||||     THIRD LEVEL SUPPORT AND RESISTANCE      |||||   #\n",
    "R3 = HH + 2 * (PP - LL) # Third_Resistance\n",
    "\n",
    "S3 = LL - 2 * (HH - PP) # Third_Support\n",
    "\n"
   ]
  },
  {
   "cell_type": "code",
   "execution_count": 112,
   "metadata": {},
   "outputs": [],
   "source": [
    "### FIBONACCI PP\n",
    "FR3 = PP + ((HH - LL) * 1.000)\n",
    "FR2 = PP + ((HH - LL) * 0.618)\n",
    "FR1 = PP + ((HH - LL) * 0.382)\n",
    "\n",
    "# PP\n",
    "\n",
    "FS1 = PP - ((HH - LL) * 0.382)\n",
    "FS2 = PP - ((HH - LL) * 0.618)\n",
    "FS3 = PP - ((HH - LL) * 1.000)\n",
    "\n"
   ]
  },
  {
   "cell_type": "markdown",
   "metadata": {},
   "source": [
    "### Thinking of Adding PIP_BEFORE and PIP_AFTER"
   ]
  },
  {
   "cell_type": "code",
   "execution_count": 113,
   "metadata": {},
   "outputs": [],
   "source": [
    "# PIPS Positions\n",
    "positions = mt.positions_get()\n",
    "# PRICE = 0\n",
    "def return_pip(percentage):\n",
    "    if len(positions) > 0:\n",
    "        # pip_num = 1\n",
    "        for pips in positions:\n",
    "            # print(f\"pip Price {pip_num}:\", pips._asdict()['price_current'])\n",
    "            # pip_num = pip_num + 1\n",
    "            price = pips._asdict()['price_current']\n",
    "        # Calculating PIP\n",
    "            pip,PRICE = (percentage/100) * price, price\n",
    "            # print(pip, PRICE)\n",
    "            return pip, PRICE\n",
    "    else:\n",
    "        price = ASK_PRICE\n",
    "        # Calculating PIP\n",
    "        pip, PRICE = (percentage/100) * price, price\n",
    "        # print(pip, PRICE)\n",
    "        return pip, PRICE\n",
    "\n",
    "# def split_float(mypip):\n",
    "#     '''split float into parts before and after the decimal'''\n",
    "#     x = return_pip(mypip)\n",
    "#     before, after = str(x).split('.')\n",
    "#     return int(before), (int(after) if len(after) > 1 else int(after))\n",
    "\n",
    "# split_float(0.1)\n",
    "pip, PRICE = return_pip(0.1)\n",
    "# print(pip, PRICE)\n",
    "\n",
    "# return_pip(0.1)"
   ]
  },
  {
   "cell_type": "markdown",
   "metadata": {},
   "source": [
    "### SETTING SL && TP"
   ]
  },
  {
   "cell_type": "code",
   "execution_count": 114,
   "metadata": {},
   "outputs": [],
   "source": [
    "####    ||||||||        SET   SL && TP       ||||||||   ######\n",
    "SL = 0.0\n",
    "TP = 0.0\n",
    "def buyStopLost():\n",
    "    \"\"\" Function to Return All Stop Loss Position \"\"\"\n",
    "    PP_SL = PP - pip\n",
    "    R1_SL = R1 - pip\n",
    "    R2_SL = R2 - pip\n",
    "    R3_SL = R3 - pip\n",
    "    return PP_SL, R1_SL, R2_SL, R3_SL\n",
    "\n",
    "def buyTakeProfit():\n",
    "    \"\"\" Returns All  Positions To Take Profit \"\"\"\n",
    "    PP_TP = R1 + pip\n",
    "    S1_TP = R2 + pip\n",
    "    S2_TP = R3 + pip\n",
    "    S3_TP = S2 - pip\n",
    "    return PP_TP, S1_TP, S2_TP, S3_TP\n",
    "\n",
    "def sellStopLost():\n",
    "    \"\"\" Function to Return All Stop Loss Position \"\"\"\n",
    "    PP_SL = PP + pip\n",
    "    R1_SL = R1 + pip\n",
    "    R2_SL = R2 + pip\n",
    "    R3_SL = R3 + pip\n",
    "    return PP_SL, R1_SL, R2_SL, R3_SL\n",
    "\n",
    "def sellTakeProfit():\n",
    "    \"\"\" Returns All  Positions To Take Profit \"\"\"\n",
    "    PP_TP = S1 + pip\n",
    "    S1_TP = S2 + pip\n",
    "    S2_TP = S3 + pip\n",
    "    return PP_TP, S1_TP, S2_TP\n",
    "\n"
   ]
  },
  {
   "cell_type": "markdown",
   "metadata": {},
   "source": [
    "### INITIALIZING A BUY || SELL STRATEGY"
   ]
  },
  {
   "cell_type": "code",
   "execution_count": 115,
   "metadata": {},
   "outputs": [],
   "source": [
    "# send order to the market\n",
    "# documentation: https://www.mql5.com/en/docs/integration/python_metatrader5/mt5ordersend_py\n",
    "\n",
    "# CURRENCY_PAIRS AS DEFINED ABOVE\n",
    "# Buy\n",
    "def Buy(SL, TP):\n",
    "    # SL = SL else 0.0\n",
    "    # TP = SL else 0.0\n",
    "    ORDER_TYPE = mt.ORDER_TYPE_BUY\n",
    "    request = {\n",
    "        \"action\": mt.TRADE_ACTION_DEAL,\n",
    "        \"symbol\": CURRENCY_PAIRS,\n",
    "        \"volume\": 0.05, # FLOAT\n",
    "        \"type\": ORDER_TYPE,\n",
    "        \"price\": mt.symbol_info_tick(CURRENCY_PAIRS).ask,\n",
    "        \"sl\": SL, # FLOAT\n",
    "        \"tp\": TP, # FLOAT\n",
    "        \"deviation\": 20, # INTERGER\n",
    "        \"magic\": 234000, # INTERGER\n",
    "        \"comment\": \"Cybergate_BOT: STARTED\",\n",
    "        \"type_time\": mt.ORDER_TIME_GTC,\n",
    "        \"type_filling\": mt.ORDER_FILLING_IOC,\n",
    "    }\n",
    "    order = mt.order_send(request)\n",
    "    return order\n",
    "\n",
    "# Buy()\n",
    "\n",
    "#######     |||||||||||  Check Support && Resistence Before Initiating a Trade\n",
    "# Sell\n",
    "def Sell(SL, TP):\n",
    "    # SL = SL else 0.0\n",
    "    # TP = SL else 0.0\n",
    "    ORDER_TYPE = mt.ORDER_TYPE_SELL\n",
    "    request = {\n",
    "        \"action\": mt.TRADE_ACTION_DEAL,\n",
    "        \"symbol\": CURRENCY_PAIRS,\n",
    "        \"volume\": 0.03, # FLOAT\n",
    "        \"type\": ORDER_TYPE,\n",
    "        \"price\": mt.symbol_info_tick(CURRENCY_PAIRS).ask,\n",
    "        \"sl\": SL, # FLOAT\n",
    "        \"tp\": TP, # FLOAT\n",
    "        \"deviation\": 20, # INTERGER\n",
    "        \"magic\": 234000, # INTERGER\n",
    "        \"comment\": \"Cybergate_BOT: STARTED\",\n",
    "        \"type_time\": mt.ORDER_TIME_GTC,\n",
    "        \"type_filling\": mt.ORDER_FILLING_IOC,\n",
    "    }\n",
    "    order = mt.order_send(request)\n",
    "    return order\n",
    "\n",
    "# Sell(1.06500, 1.04500) Working !!!!!!!!!!!!!!"
   ]
  },
  {
   "cell_type": "markdown",
   "metadata": {},
   "source": [
    "### CLOSING A TRADE STRATEGY AND CONDITIONS"
   ]
  },
  {
   "cell_type": "code",
   "execution_count": 116,
   "metadata": {},
   "outputs": [],
   "source": [
    "# close position\n",
    "\n",
    "def CloseTrade(SL, TP, POS, tick_no):\n",
    "    # SL = SL else 0.0\n",
    "    # TP = SL else 0.0\n",
    "    request = {\n",
    "        \"action\": mt.TRADE_ACTION_DEAL,\n",
    "        \"symbol\": CURRENCY_PAIRS,\n",
    "        \"volume\": 2.0, # FLOAT\n",
    "        \"type\": mt.ORDER_TYPE_SELL,\n",
    "        \"position\": tick_no, # select the position you want to close\n",
    "        \"price\": mt.symbol_info_tick(CURRENCY_PAIRS).ask,\n",
    "        \"sl\": SL, # FLOAT\n",
    "        \"tp\": TP, # FLOAT\n",
    "        \"deviation\": 20, # INTERGER\n",
    "        \"magic\": 234000, # INTERGER\n",
    "        \"comment\": \"Cybergate_BOT: CLOSED\",\n",
    "        \"type_time\": mt.ORDER_TIME_GTC,\n",
    "        \"type_filling\": mt.ORDER_FILLING_IOC,\n",
    "    }\n",
    "    order = mt.order_send(request)\n",
    "    print(order, f\"POS: {POS}\")\n",
    "    mt.Close(CURRENCY_PAIRS)\n",
    "\n",
    "############  ||||||||||   CHECK SUPPORT AN RESISTANCE BEFORE CLOSING TRADE |||||\n",
    "\n",
    "# order = mt.order_send(request)\n",
    "# print(order)"
   ]
  },
  {
   "cell_type": "code",
   "execution_count": 117,
   "metadata": {},
   "outputs": [],
   "source": [
    "# Check Trade and Return the Closing Position\n",
    "# def take_profit_or_stop_lost(currentPosition):\n",
    "#     \"\"\" Return (price == currentPosition) \"\"\"\n",
    "#     PP_SL, R1_SL, R2_SL = sl()\n",
    "#     if currentPosition == PP_SL or R1_SL or R2_SL:\n",
    "#         CloseTrade(currentPosition, ticket_number)\n",
    "\n",
    "#     PP_TP, S1_TP, S2_TP = tp()\n",
    "#     if currentPosition == PP_TP or S1_TP or S2_TP:\n",
    "#         CloseTrade(currentPosition, ticket_number)"
   ]
  },
  {
   "cell_type": "code",
   "execution_count": 118,
   "metadata": {},
   "outputs": [],
   "source": [
    "def split_float(num):\n",
    "    '''split float into parts before and after the decimal'''\n",
    "    x = num\n",
    "    before, after = str(x).split('.')\n",
    "    # return int(before), (int(after) if len(after) > 1 else int(after))\n",
    "    newNum = int(before)\n",
    "    return newNum\n",
    "\n",
    "# Return Existing position\n",
    "# position = mt.positions_get()\n",
    "# position\n",
    "def fetchExistingTrade():\n",
    "    if num_positions > 0:\n",
    "        \"\"\" CHeck for Existing Trade and Return their Props \"\"\"\n",
    "        for position in positions:\n",
    "            POS = position._asdict()\n",
    "            # print(POS)\n",
    "            return POS['price_open']\n",
    "    else:\n",
    "        return 0.0\n",
    "\n",
    "#### Implement Check Trade\n",
    "def checkTrade(cp):\n",
    "    p = fetchExistingTrade()\n",
    "    ex_price = str(split_float(p))\n",
    "    new_price = str(split_float(cp))\n",
    "    # print(type(new_price), type(ex_price))\n",
    "    if ex_price == new_price:\n",
    "        return 1\n",
    "    else:\n",
    "        return 0\n",
    "\n"
   ]
  },
  {
   "cell_type": "code",
   "execution_count": 119,
   "metadata": {},
   "outputs": [
    {
     "name": "stdout",
     "output_type": "stream",
     "text": [
      "Sell Signal at 1.058308506666667 : R1\n",
      "Sell Signal at 1.058308506666667 : R1\n",
      "Sell Signal at 1.058308506666667 : R1\n",
      "Sell Signal at 1.058308506666667 : R1\n",
      "Sell Signal at 1.058308506666667 : R1\n",
      "Sell Signal at 1.058308506666667 : R1\n",
      "Sell Signal at 1.058308506666667 : R1\n",
      "Sell Signal at 1.058308506666667 : R1\n",
      "Sell Signal at 1.058308506666667 : R1\n",
      "Sell Signal at 1.058308506666667 : R1\n",
      "Sell Signal at 1.058308506666667 : R1\n",
      "Sell Signal at 1.058308506666667 : R1\n",
      "Sell Signal at 1.058308506666667 : R1\n",
      "Sell Signal at 1.058308506666667 : R1\n",
      "Sell Signal at 1.058308506666667 : R1\n"
     ]
    },
    {
     "ename": "KeyboardInterrupt",
     "evalue": "",
     "output_type": "error",
     "traceback": [
      "\u001b[1;31m---------------------------------------------------------------------------\u001b[0m",
      "\u001b[1;31mKeyboardInterrupt\u001b[0m                         Traceback (most recent call last)",
      "\u001b[1;32mc:\\Users\\ONYEKACHI UWASOMBA\\Desktop\\Cybergate BOT Trader 2022\\bot\\Kamzy.ipynb Cell 36'\u001b[0m in \u001b[0;36m<cell line: 14>\u001b[1;34m()\u001b[0m\n\u001b[0;32m     <a href='vscode-notebook-cell:/c%3A/Users/ONYEKACHI%20UWASOMBA/Desktop/Cybergate%20BOT%20Trader%202022/bot/Kamzy.ipynb#ch0000035?line=98'>99</a>\u001b[0m     mt\u001b[39m.\u001b[39mshutdown()\n\u001b[0;32m    <a href='vscode-notebook-cell:/c%3A/Users/ONYEKACHI%20UWASOMBA/Desktop/Cybergate%20BOT%20Trader%202022/bot/Kamzy.ipynb#ch0000035?line=99'>100</a>\u001b[0m     \u001b[39mprint\u001b[39m(\u001b[39m\"\u001b[39m\u001b[39mNO Trade Matches...Shuting down...\u001b[39m\u001b[39m\"\u001b[39m)\n\u001b[1;32m--> <a href='vscode-notebook-cell:/c%3A/Users/ONYEKACHI%20UWASOMBA/Desktop/Cybergate%20BOT%20Trader%202022/bot/Kamzy.ipynb#ch0000035?line=100'>101</a>\u001b[0m time\u001b[39m.\u001b[39;49msleep(\u001b[39m5\u001b[39;49m)\n",
      "\u001b[1;31mKeyboardInterrupt\u001b[0m: "
     ]
    }
   ],
   "source": [
    "#### START A TRADE USING PP, PIP, PRICE, R1, R2, R3, S1, S2, S3\n",
    "import time\n",
    "\n",
    "# Check Position && Return SL || TP\n",
    "# BUY\n",
    "BUY_PP_SL, BUY_R1_SL, BUY_R2_SL,BUY_R3_SL = buyStopLost()\n",
    "BUY_PP_TP, BUY_S1_TP, BUY_S2_TP, BUY_S3_TP = buyTakeProfit()\n",
    "# SELL\n",
    "SELL_PP_SL, SELL_R1_SL, SELL_R2_SL, SELL_R3_SL = sellStopLost()\n",
    "SELL_PP_TP, SELL_S1_TP, SELL_S2_TP = sellTakeProfit()\n",
    "\n",
    "\n",
    "while True:\n",
    "    try:\n",
    "        if PRICE >= (PP + pip):\n",
    "            check = checkTrade(PRICE)\n",
    "            if check > 0 & num_positions <= 4:\n",
    "                Buy(0.0,0.0)\n",
    "                print(f\"Buy Signal at {PP + pip} : PP\")\n",
    "            else:\n",
    "                pass\n",
    "            \n",
    "        elif PRICE <= (PP - pip):\n",
    "            # Check Position && Return SL || TP\n",
    "            check = checkTrade(PRICE)\n",
    "            if check > 0 & num_positions <= 4:\n",
    "                Sell(SELL_PP_SL, SELL_PP_TP)\n",
    "                print(f\"Sell Signal at {PP - pip} : PP\")\n",
    "            else:\n",
    "                pass\n",
    "        \n",
    "        elif PRICE >= (R1 + pip):\n",
    "            check = checkTrade(PRICE)\n",
    "            if check > 0 & num_positions <= 4:\n",
    "                Buy(0.0, 0.0) #  BUY_R1_TP\n",
    "                print(f\"Buy Signal at {R1 + pip} : R1\")\n",
    "            else:\n",
    "                pass\n",
    "        elif PRICE <= (R1 - pip):\n",
    "            check = checkTrade(PRICE)\n",
    "            if check > 0 & num_positions <= 4:\n",
    "                Sell(0.0, 0.0) #  SELL_R1_TP\n",
    "                print(f\"Sell Signal at {R1 - pip} : R1\")\n",
    "            else:\n",
    "                pass\n",
    "        elif PRICE >= (R2 + pip):\n",
    "            check = checkTrade(PRICE)\n",
    "            if check > 0 & num_positions <= 4:\n",
    "                Buy(0.0, 0.0) # BUY_R2_TP\n",
    "                print(f\"Buy Signal at {R2 + pip} : R2\")\n",
    "            else:\n",
    "                pass\n",
    "        elif PRICE <= (R2 - pip):\n",
    "            check = checkTrade(PRICE)\n",
    "            if check > 0 & num_positions <= 4:\n",
    "                Sell(0.0, 0.0) # SELL_R2_TP\n",
    "                print(f\"Sell Signal at {R2 - pip} : R2\")\n",
    "            else:\n",
    "                pass\n",
    "\n",
    "        elif PRICE >= (S1 + pip):\n",
    "            check = checkTrade(PRICE)\n",
    "            if check > 0 & num_positions <= 4:\n",
    "                Buy(0.0, 0.0)\n",
    "                print(f\"Buy Signal at {S1 + pip} : S1\")\n",
    "            else:\n",
    "                pass\n",
    "        elif PRICE <= (S1 - pip):\n",
    "            check = checkTrade(PRICE)\n",
    "            if check > 0 & num_positions <= 4:\n",
    "                Sell(0.0, 0.0) # SELL_S1_SL\n",
    "                print(f\"Sell Signal at {S1 - pip} : S1\")\n",
    "            else:\n",
    "                pass\n",
    "        elif PRICE >= (S2 + pip):\n",
    "            check = checkTrade(PRICE)\n",
    "            if check > 0 & num_positions <= 4:\n",
    "                Buy(0.0, 0.0) # BUY_S2_SL\n",
    "                print(f\"Buy Signal at {S2 + pip} : S2\")\n",
    "            else:\n",
    "                pass\n",
    "        elif PRICE <= (S2 - pip):\n",
    "            check = checkTrade(PRICE)\n",
    "            if check > 0 & num_positions <= 4:\n",
    "                Sell(0.0, 0.0)\n",
    "                print(f\"Sell Signal at {S2 - pip} : S2\")\n",
    "            else:\n",
    "                pass\n",
    "\n",
    "        else:\n",
    "            CloseTrade(SL, TP, PRICE, ticketNumber)\n",
    "            mt.Close(CURRENCY_PAIRS)\n",
    "            print(\"No Trade Match...\")\n",
    "    except:\n",
    "        \n",
    "        mt.shutdown()\n",
    "        print(\"NO Trade Matches...Shuting down...\")\n",
    "    time.sleep(5)\n",
    "    "
   ]
  },
  {
   "cell_type": "code",
   "execution_count": null,
   "metadata": {},
   "outputs": [
    {
     "data": {
      "text/plain": [
       "165.988"
      ]
     },
     "execution_count": 132,
     "metadata": {},
     "output_type": "execute_result"
    }
   ],
   "source": [
    "######  CHECKING FOR EXISTING TRADE\n",
    " \n",
    "# establish connection to MetaTrader 5 terminal\n",
    "# if not mt.initialize():\n",
    "#     print(\"initialize() failed, error code =\", mt.last_error())\n",
    "#     quit()\n",
    " \n",
    "\n",
    " \n",
    "# # shut down connection to the MetaTrader 5 terminal\n",
    "# mt.shutdown()\n",
    "\n",
    "# positions = mt.positions_total()\n",
    "\n",
    "\n",
    "\n",
    "# p = checkTrade()\n",
    "# p"
   ]
  }
 ],
 "metadata": {
  "kernelspec": {
   "display_name": "Python 3.9.13 64-bit",
   "language": "python",
   "name": "python3"
  },
  "language_info": {
   "codemirror_mode": {
    "name": "ipython",
    "version": 3
   },
   "file_extension": ".py",
   "mimetype": "text/x-python",
   "name": "python",
   "nbconvert_exporter": "python",
   "pygments_lexer": "ipython3",
   "version": "3.9.13"
  },
  "vscode": {
   "interpreter": {
    "hash": "b4705c7e868c233fe746c4480adf7c9cfac24046706e2109caba0b56995f8755"
   }
  }
 },
 "nbformat": 4,
 "nbformat_minor": 4
}
